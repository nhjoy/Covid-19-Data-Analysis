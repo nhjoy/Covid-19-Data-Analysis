{
 "cells": [
  {
   "cell_type": "markdown",
   "metadata": {},
   "source": [
    "# Welcome to Covid19 Data Analysis Notebook\n",
    "------------------------------------------"
   ]
  },
  {
   "cell_type": "code",
   "execution_count": 1,
   "metadata": {
    "tags": []
   },
   "outputs": [
    {
     "output_type": "stream",
     "name": "stdout",
     "text": "all the modules are imported.\n"
    }
   ],
   "source": [
    "#improting libraries\n",
    "\n",
    "import pandas as pd \n",
    "import numpy as np \n",
    "import seaborn as sns\n",
    "import matplotlib.pyplot as plt \n",
    "\n",
    "print('all the modules are imported.')"
   ]
  },
  {
   "cell_type": "code",
   "execution_count": 3,
   "metadata": {},
   "outputs": [
    {
     "output_type": "execute_result",
     "data": {
      "text/plain": "                 Province/State       Country/Region      Lat      Long  \\\n0                           NaN          Afghanistan  33.0000   65.0000   \n1                           NaN              Albania  41.1533   20.1683   \n2                           NaN              Algeria  28.0339    1.6596   \n3                           NaN              Andorra  42.5063    1.5218   \n4                           NaN               Angola -11.2027   17.8739   \n5                           NaN  Antigua and Barbuda  17.0608  -61.7964   \n6                           NaN            Argentina -38.4161  -63.6167   \n7                           NaN              Armenia  40.0691   45.0382   \n8  Australian Capital Territory            Australia -35.4735  149.0124   \n9               New South Wales            Australia -33.8688  151.2093   \n\n   1/22/20  1/23/20  1/24/20  1/25/20  1/26/20  1/27/20  ...  4/21/20  \\\n0        0        0        0        0        0        0  ...     1092   \n1        0        0        0        0        0        0  ...      609   \n2        0        0        0        0        0        0  ...     2811   \n3        0        0        0        0        0        0  ...      717   \n4        0        0        0        0        0        0  ...       24   \n5        0        0        0        0        0        0  ...       23   \n6        0        0        0        0        0        0  ...     3031   \n7        0        0        0        0        0        0  ...     1401   \n8        0        0        0        0        0        0  ...      104   \n9        0        0        0        0        3        4  ...     2969   \n\n   4/22/20  4/23/20  4/24/20  4/25/20  4/26/20  4/27/20  4/28/20  4/29/20  \\\n0     1176     1279     1351     1463     1531     1703     1828     1939   \n1      634      663      678      712      726      736      750      766   \n2     2910     3007     3127     3256     3382     3517     3649     3848   \n3      723      723      731      738      738      743      743      743   \n4       25       25       25       25       26       27       27       27   \n5       24       24       24       24       24       24       24       24   \n6     3144     3435     3607     3780     3892     4003     4127     4285   \n7     1473     1523     1596     1677     1746     1808     1867     1932   \n8      104      104      105      106      106      106      106      106   \n9     2971     2976     2982     2994     3002     3004     3016     3016   \n\n   4/30/20  \n0     2171  \n1      773  \n2     4006  \n3      745  \n4       27  \n5       24  \n6     4428  \n7     2066  \n8      106  \n9     3025  \n\n[10 rows x 104 columns]",
      "text/html": "<div>\n<style scoped>\n    .dataframe tbody tr th:only-of-type {\n        vertical-align: middle;\n    }\n\n    .dataframe tbody tr th {\n        vertical-align: top;\n    }\n\n    .dataframe thead th {\n        text-align: right;\n    }\n</style>\n<table border=\"1\" class=\"dataframe\">\n  <thead>\n    <tr style=\"text-align: right;\">\n      <th></th>\n      <th>Province/State</th>\n      <th>Country/Region</th>\n      <th>Lat</th>\n      <th>Long</th>\n      <th>1/22/20</th>\n      <th>1/23/20</th>\n      <th>1/24/20</th>\n      <th>1/25/20</th>\n      <th>1/26/20</th>\n      <th>1/27/20</th>\n      <th>...</th>\n      <th>4/21/20</th>\n      <th>4/22/20</th>\n      <th>4/23/20</th>\n      <th>4/24/20</th>\n      <th>4/25/20</th>\n      <th>4/26/20</th>\n      <th>4/27/20</th>\n      <th>4/28/20</th>\n      <th>4/29/20</th>\n      <th>4/30/20</th>\n    </tr>\n  </thead>\n  <tbody>\n    <tr>\n      <th>0</th>\n      <td>NaN</td>\n      <td>Afghanistan</td>\n      <td>33.0000</td>\n      <td>65.0000</td>\n      <td>0</td>\n      <td>0</td>\n      <td>0</td>\n      <td>0</td>\n      <td>0</td>\n      <td>0</td>\n      <td>...</td>\n      <td>1092</td>\n      <td>1176</td>\n      <td>1279</td>\n      <td>1351</td>\n      <td>1463</td>\n      <td>1531</td>\n      <td>1703</td>\n      <td>1828</td>\n      <td>1939</td>\n      <td>2171</td>\n    </tr>\n    <tr>\n      <th>1</th>\n      <td>NaN</td>\n      <td>Albania</td>\n      <td>41.1533</td>\n      <td>20.1683</td>\n      <td>0</td>\n      <td>0</td>\n      <td>0</td>\n      <td>0</td>\n      <td>0</td>\n      <td>0</td>\n      <td>...</td>\n      <td>609</td>\n      <td>634</td>\n      <td>663</td>\n      <td>678</td>\n      <td>712</td>\n      <td>726</td>\n      <td>736</td>\n      <td>750</td>\n      <td>766</td>\n      <td>773</td>\n    </tr>\n    <tr>\n      <th>2</th>\n      <td>NaN</td>\n      <td>Algeria</td>\n      <td>28.0339</td>\n      <td>1.6596</td>\n      <td>0</td>\n      <td>0</td>\n      <td>0</td>\n      <td>0</td>\n      <td>0</td>\n      <td>0</td>\n      <td>...</td>\n      <td>2811</td>\n      <td>2910</td>\n      <td>3007</td>\n      <td>3127</td>\n      <td>3256</td>\n      <td>3382</td>\n      <td>3517</td>\n      <td>3649</td>\n      <td>3848</td>\n      <td>4006</td>\n    </tr>\n    <tr>\n      <th>3</th>\n      <td>NaN</td>\n      <td>Andorra</td>\n      <td>42.5063</td>\n      <td>1.5218</td>\n      <td>0</td>\n      <td>0</td>\n      <td>0</td>\n      <td>0</td>\n      <td>0</td>\n      <td>0</td>\n      <td>...</td>\n      <td>717</td>\n      <td>723</td>\n      <td>723</td>\n      <td>731</td>\n      <td>738</td>\n      <td>738</td>\n      <td>743</td>\n      <td>743</td>\n      <td>743</td>\n      <td>745</td>\n    </tr>\n    <tr>\n      <th>4</th>\n      <td>NaN</td>\n      <td>Angola</td>\n      <td>-11.2027</td>\n      <td>17.8739</td>\n      <td>0</td>\n      <td>0</td>\n      <td>0</td>\n      <td>0</td>\n      <td>0</td>\n      <td>0</td>\n      <td>...</td>\n      <td>24</td>\n      <td>25</td>\n      <td>25</td>\n      <td>25</td>\n      <td>25</td>\n      <td>26</td>\n      <td>27</td>\n      <td>27</td>\n      <td>27</td>\n      <td>27</td>\n    </tr>\n    <tr>\n      <th>5</th>\n      <td>NaN</td>\n      <td>Antigua and Barbuda</td>\n      <td>17.0608</td>\n      <td>-61.7964</td>\n      <td>0</td>\n      <td>0</td>\n      <td>0</td>\n      <td>0</td>\n      <td>0</td>\n      <td>0</td>\n      <td>...</td>\n      <td>23</td>\n      <td>24</td>\n      <td>24</td>\n      <td>24</td>\n      <td>24</td>\n      <td>24</td>\n      <td>24</td>\n      <td>24</td>\n      <td>24</td>\n      <td>24</td>\n    </tr>\n    <tr>\n      <th>6</th>\n      <td>NaN</td>\n      <td>Argentina</td>\n      <td>-38.4161</td>\n      <td>-63.6167</td>\n      <td>0</td>\n      <td>0</td>\n      <td>0</td>\n      <td>0</td>\n      <td>0</td>\n      <td>0</td>\n      <td>...</td>\n      <td>3031</td>\n      <td>3144</td>\n      <td>3435</td>\n      <td>3607</td>\n      <td>3780</td>\n      <td>3892</td>\n      <td>4003</td>\n      <td>4127</td>\n      <td>4285</td>\n      <td>4428</td>\n    </tr>\n    <tr>\n      <th>7</th>\n      <td>NaN</td>\n      <td>Armenia</td>\n      <td>40.0691</td>\n      <td>45.0382</td>\n      <td>0</td>\n      <td>0</td>\n      <td>0</td>\n      <td>0</td>\n      <td>0</td>\n      <td>0</td>\n      <td>...</td>\n      <td>1401</td>\n      <td>1473</td>\n      <td>1523</td>\n      <td>1596</td>\n      <td>1677</td>\n      <td>1746</td>\n      <td>1808</td>\n      <td>1867</td>\n      <td>1932</td>\n      <td>2066</td>\n    </tr>\n    <tr>\n      <th>8</th>\n      <td>Australian Capital Territory</td>\n      <td>Australia</td>\n      <td>-35.4735</td>\n      <td>149.0124</td>\n      <td>0</td>\n      <td>0</td>\n      <td>0</td>\n      <td>0</td>\n      <td>0</td>\n      <td>0</td>\n      <td>...</td>\n      <td>104</td>\n      <td>104</td>\n      <td>104</td>\n      <td>105</td>\n      <td>106</td>\n      <td>106</td>\n      <td>106</td>\n      <td>106</td>\n      <td>106</td>\n      <td>106</td>\n    </tr>\n    <tr>\n      <th>9</th>\n      <td>New South Wales</td>\n      <td>Australia</td>\n      <td>-33.8688</td>\n      <td>151.2093</td>\n      <td>0</td>\n      <td>0</td>\n      <td>0</td>\n      <td>0</td>\n      <td>3</td>\n      <td>4</td>\n      <td>...</td>\n      <td>2969</td>\n      <td>2971</td>\n      <td>2976</td>\n      <td>2982</td>\n      <td>2994</td>\n      <td>3002</td>\n      <td>3004</td>\n      <td>3016</td>\n      <td>3016</td>\n      <td>3025</td>\n    </tr>\n  </tbody>\n</table>\n<p>10 rows × 104 columns</p>\n</div>"
     },
     "metadata": {},
     "execution_count": 3
    }
   ],
   "source": [
    "#opening file Covid19_Confirmed_dataset.csv\n",
    "\n",
    "file_confirmed = pd.read_csv(\"Dataset for practice\\covid19_Confirmed_dataset.csv\")\n",
    "file_confirmed.head(10)"
   ]
  },
  {
   "cell_type": "code",
   "execution_count": 4,
   "metadata": {},
   "outputs": [
    {
     "output_type": "execute_result",
     "data": {
      "text/plain": "(266, 104)"
     },
     "metadata": {},
     "execution_count": 4
    }
   ],
   "source": [
    "#finding the shape of dataset\n",
    "\n",
    "file_confirmed.shape\n"
   ]
  },
  {
   "cell_type": "markdown",
   "metadata": {},
   "source": [
    "### Task 2.2: Delete the useless columns"
   ]
  },
  {
   "cell_type": "code",
   "execution_count": 6,
   "metadata": {},
   "outputs": [
    {
     "output_type": "execute_result",
     "data": {
      "text/plain": "  Province/State Country/Region  1/22/20  1/23/20  1/24/20  1/25/20  1/26/20  \\\n0            NaN    Afghanistan        0        0        0        0        0   \n1            NaN        Albania        0        0        0        0        0   \n2            NaN        Algeria        0        0        0        0        0   \n3            NaN        Andorra        0        0        0        0        0   \n4            NaN         Angola        0        0        0        0        0   \n\n   1/27/20  1/28/20  1/29/20  ...  4/21/20  4/22/20  4/23/20  4/24/20  \\\n0        0        0        0  ...     1092     1176     1279     1351   \n1        0        0        0  ...      609      634      663      678   \n2        0        0        0  ...     2811     2910     3007     3127   \n3        0        0        0  ...      717      723      723      731   \n4        0        0        0  ...       24       25       25       25   \n\n   4/25/20  4/26/20  4/27/20  4/28/20  4/29/20  4/30/20  \n0     1463     1531     1703     1828     1939     2171  \n1      712      726      736      750      766      773  \n2     3256     3382     3517     3649     3848     4006  \n3      738      738      743      743      743      745  \n4       25       26       27       27       27       27  \n\n[5 rows x 102 columns]",
      "text/html": "<div>\n<style scoped>\n    .dataframe tbody tr th:only-of-type {\n        vertical-align: middle;\n    }\n\n    .dataframe tbody tr th {\n        vertical-align: top;\n    }\n\n    .dataframe thead th {\n        text-align: right;\n    }\n</style>\n<table border=\"1\" class=\"dataframe\">\n  <thead>\n    <tr style=\"text-align: right;\">\n      <th></th>\n      <th>Province/State</th>\n      <th>Country/Region</th>\n      <th>1/22/20</th>\n      <th>1/23/20</th>\n      <th>1/24/20</th>\n      <th>1/25/20</th>\n      <th>1/26/20</th>\n      <th>1/27/20</th>\n      <th>1/28/20</th>\n      <th>1/29/20</th>\n      <th>...</th>\n      <th>4/21/20</th>\n      <th>4/22/20</th>\n      <th>4/23/20</th>\n      <th>4/24/20</th>\n      <th>4/25/20</th>\n      <th>4/26/20</th>\n      <th>4/27/20</th>\n      <th>4/28/20</th>\n      <th>4/29/20</th>\n      <th>4/30/20</th>\n    </tr>\n  </thead>\n  <tbody>\n    <tr>\n      <th>0</th>\n      <td>NaN</td>\n      <td>Afghanistan</td>\n      <td>0</td>\n      <td>0</td>\n      <td>0</td>\n      <td>0</td>\n      <td>0</td>\n      <td>0</td>\n      <td>0</td>\n      <td>0</td>\n      <td>...</td>\n      <td>1092</td>\n      <td>1176</td>\n      <td>1279</td>\n      <td>1351</td>\n      <td>1463</td>\n      <td>1531</td>\n      <td>1703</td>\n      <td>1828</td>\n      <td>1939</td>\n      <td>2171</td>\n    </tr>\n    <tr>\n      <th>1</th>\n      <td>NaN</td>\n      <td>Albania</td>\n      <td>0</td>\n      <td>0</td>\n      <td>0</td>\n      <td>0</td>\n      <td>0</td>\n      <td>0</td>\n      <td>0</td>\n      <td>0</td>\n      <td>...</td>\n      <td>609</td>\n      <td>634</td>\n      <td>663</td>\n      <td>678</td>\n      <td>712</td>\n      <td>726</td>\n      <td>736</td>\n      <td>750</td>\n      <td>766</td>\n      <td>773</td>\n    </tr>\n    <tr>\n      <th>2</th>\n      <td>NaN</td>\n      <td>Algeria</td>\n      <td>0</td>\n      <td>0</td>\n      <td>0</td>\n      <td>0</td>\n      <td>0</td>\n      <td>0</td>\n      <td>0</td>\n      <td>0</td>\n      <td>...</td>\n      <td>2811</td>\n      <td>2910</td>\n      <td>3007</td>\n      <td>3127</td>\n      <td>3256</td>\n      <td>3382</td>\n      <td>3517</td>\n      <td>3649</td>\n      <td>3848</td>\n      <td>4006</td>\n    </tr>\n    <tr>\n      <th>3</th>\n      <td>NaN</td>\n      <td>Andorra</td>\n      <td>0</td>\n      <td>0</td>\n      <td>0</td>\n      <td>0</td>\n      <td>0</td>\n      <td>0</td>\n      <td>0</td>\n      <td>0</td>\n      <td>...</td>\n      <td>717</td>\n      <td>723</td>\n      <td>723</td>\n      <td>731</td>\n      <td>738</td>\n      <td>738</td>\n      <td>743</td>\n      <td>743</td>\n      <td>743</td>\n      <td>745</td>\n    </tr>\n    <tr>\n      <th>4</th>\n      <td>NaN</td>\n      <td>Angola</td>\n      <td>0</td>\n      <td>0</td>\n      <td>0</td>\n      <td>0</td>\n      <td>0</td>\n      <td>0</td>\n      <td>0</td>\n      <td>0</td>\n      <td>...</td>\n      <td>24</td>\n      <td>25</td>\n      <td>25</td>\n      <td>25</td>\n      <td>25</td>\n      <td>26</td>\n      <td>27</td>\n      <td>27</td>\n      <td>27</td>\n      <td>27</td>\n    </tr>\n  </tbody>\n</table>\n<p>5 rows × 102 columns</p>\n</div>"
     },
     "metadata": {},
     "execution_count": 6
    }
   ],
   "source": [
    "#deleting long lat- not required\n",
    "\n",
    "df_confirmed = file_confirmed.drop(['Lat','Long'], axis=1)\n",
    "df_confirmed.head()"
   ]
  },
  {
   "cell_type": "code",
   "execution_count": 10,
   "metadata": {},
   "outputs": [
    {
     "output_type": "execute_result",
     "data": {
      "text/plain": "                1/22/20  1/23/20  1/24/20  1/25/20  1/26/20  1/27/20  1/28/20  \\\nCountry/Region                                                                  \nAfghanistan           0        0        0        0        0        0        0   \nAlbania               0        0        0        0        0        0        0   \nAlgeria               0        0        0        0        0        0        0   \nAndorra               0        0        0        0        0        0        0   \nAngola                0        0        0        0        0        0        0   \n\n                1/29/20  1/30/20  1/31/20  ...  4/21/20  4/22/20  4/23/20  \\\nCountry/Region                             ...                              \nAfghanistan           0        0        0  ...     1092     1176     1279   \nAlbania               0        0        0  ...      609      634      663   \nAlgeria               0        0        0  ...     2811     2910     3007   \nAndorra               0        0        0  ...      717      723      723   \nAngola                0        0        0  ...       24       25       25   \n\n                4/24/20  4/25/20  4/26/20  4/27/20  4/28/20  4/29/20  4/30/20  \nCountry/Region                                                                 \nAfghanistan        1351     1463     1531     1703     1828     1939     2171  \nAlbania             678      712      726      736      750      766      773  \nAlgeria            3127     3256     3382     3517     3649     3848     4006  \nAndorra             731      738      738      743      743      743      745  \nAngola               25       25       26       27       27       27       27  \n\n[5 rows x 100 columns]",
      "text/html": "<div>\n<style scoped>\n    .dataframe tbody tr th:only-of-type {\n        vertical-align: middle;\n    }\n\n    .dataframe tbody tr th {\n        vertical-align: top;\n    }\n\n    .dataframe thead th {\n        text-align: right;\n    }\n</style>\n<table border=\"1\" class=\"dataframe\">\n  <thead>\n    <tr style=\"text-align: right;\">\n      <th></th>\n      <th>1/22/20</th>\n      <th>1/23/20</th>\n      <th>1/24/20</th>\n      <th>1/25/20</th>\n      <th>1/26/20</th>\n      <th>1/27/20</th>\n      <th>1/28/20</th>\n      <th>1/29/20</th>\n      <th>1/30/20</th>\n      <th>1/31/20</th>\n      <th>...</th>\n      <th>4/21/20</th>\n      <th>4/22/20</th>\n      <th>4/23/20</th>\n      <th>4/24/20</th>\n      <th>4/25/20</th>\n      <th>4/26/20</th>\n      <th>4/27/20</th>\n      <th>4/28/20</th>\n      <th>4/29/20</th>\n      <th>4/30/20</th>\n    </tr>\n    <tr>\n      <th>Country/Region</th>\n      <th></th>\n      <th></th>\n      <th></th>\n      <th></th>\n      <th></th>\n      <th></th>\n      <th></th>\n      <th></th>\n      <th></th>\n      <th></th>\n      <th></th>\n      <th></th>\n      <th></th>\n      <th></th>\n      <th></th>\n      <th></th>\n      <th></th>\n      <th></th>\n      <th></th>\n      <th></th>\n      <th></th>\n    </tr>\n  </thead>\n  <tbody>\n    <tr>\n      <th>Afghanistan</th>\n      <td>0</td>\n      <td>0</td>\n      <td>0</td>\n      <td>0</td>\n      <td>0</td>\n      <td>0</td>\n      <td>0</td>\n      <td>0</td>\n      <td>0</td>\n      <td>0</td>\n      <td>...</td>\n      <td>1092</td>\n      <td>1176</td>\n      <td>1279</td>\n      <td>1351</td>\n      <td>1463</td>\n      <td>1531</td>\n      <td>1703</td>\n      <td>1828</td>\n      <td>1939</td>\n      <td>2171</td>\n    </tr>\n    <tr>\n      <th>Albania</th>\n      <td>0</td>\n      <td>0</td>\n      <td>0</td>\n      <td>0</td>\n      <td>0</td>\n      <td>0</td>\n      <td>0</td>\n      <td>0</td>\n      <td>0</td>\n      <td>0</td>\n      <td>...</td>\n      <td>609</td>\n      <td>634</td>\n      <td>663</td>\n      <td>678</td>\n      <td>712</td>\n      <td>726</td>\n      <td>736</td>\n      <td>750</td>\n      <td>766</td>\n      <td>773</td>\n    </tr>\n    <tr>\n      <th>Algeria</th>\n      <td>0</td>\n      <td>0</td>\n      <td>0</td>\n      <td>0</td>\n      <td>0</td>\n      <td>0</td>\n      <td>0</td>\n      <td>0</td>\n      <td>0</td>\n      <td>0</td>\n      <td>...</td>\n      <td>2811</td>\n      <td>2910</td>\n      <td>3007</td>\n      <td>3127</td>\n      <td>3256</td>\n      <td>3382</td>\n      <td>3517</td>\n      <td>3649</td>\n      <td>3848</td>\n      <td>4006</td>\n    </tr>\n    <tr>\n      <th>Andorra</th>\n      <td>0</td>\n      <td>0</td>\n      <td>0</td>\n      <td>0</td>\n      <td>0</td>\n      <td>0</td>\n      <td>0</td>\n      <td>0</td>\n      <td>0</td>\n      <td>0</td>\n      <td>...</td>\n      <td>717</td>\n      <td>723</td>\n      <td>723</td>\n      <td>731</td>\n      <td>738</td>\n      <td>738</td>\n      <td>743</td>\n      <td>743</td>\n      <td>743</td>\n      <td>745</td>\n    </tr>\n    <tr>\n      <th>Angola</th>\n      <td>0</td>\n      <td>0</td>\n      <td>0</td>\n      <td>0</td>\n      <td>0</td>\n      <td>0</td>\n      <td>0</td>\n      <td>0</td>\n      <td>0</td>\n      <td>0</td>\n      <td>...</td>\n      <td>24</td>\n      <td>25</td>\n      <td>25</td>\n      <td>25</td>\n      <td>25</td>\n      <td>26</td>\n      <td>27</td>\n      <td>27</td>\n      <td>27</td>\n      <td>27</td>\n    </tr>\n  </tbody>\n</table>\n<p>5 rows × 100 columns</p>\n</div>"
     },
     "metadata": {},
     "execution_count": 10
    }
   ],
   "source": [
    "#to group or focus on data by countries only\n",
    "\n",
    "df_confirmed_focused = df_confirmed.groupby('Country/Region').sum()\n",
    "df_confirmed_focused.head()"
   ]
  },
  {
   "cell_type": "code",
   "execution_count": null,
   "metadata": {},
   "outputs": [],
   "source": []
  },
  {
   "cell_type": "code",
   "execution_count": null,
   "metadata": {},
   "outputs": [],
   "source": []
  },
  {
   "cell_type": "markdown",
   "metadata": {},
   "source": [
    "### Task 2.4: Visualizing data related to a country for example China\n",
    "visualization always helps for better understanding of our data."
   ]
  },
  {
   "cell_type": "code",
   "execution_count": null,
   "metadata": {},
   "outputs": [],
   "source": []
  },
  {
   "cell_type": "markdown",
   "metadata": {},
   "source": [
    "### Task3: Calculating a good measure \n",
    "we need to find a good measure reperestend as a number, describing the spread of the virus in a country. "
   ]
  },
  {
   "cell_type": "code",
   "execution_count": null,
   "metadata": {},
   "outputs": [],
   "source": [
    "corona_dataset_aggregated.loc['China'].plot()"
   ]
  },
  {
   "cell_type": "code",
   "execution_count": null,
   "metadata": {},
   "outputs": [],
   "source": []
  },
  {
   "cell_type": "markdown",
   "metadata": {},
   "source": [
    "### task 3.1: caculating the first derivative of the curve"
   ]
  },
  {
   "cell_type": "code",
   "execution_count": null,
   "metadata": {},
   "outputs": [],
   "source": []
  },
  {
   "cell_type": "markdown",
   "metadata": {},
   "source": [
    "### task 3.2: find maxmimum infection rate for China"
   ]
  },
  {
   "cell_type": "code",
   "execution_count": null,
   "metadata": {},
   "outputs": [],
   "source": []
  },
  {
   "cell_type": "code",
   "execution_count": null,
   "metadata": {},
   "outputs": [],
   "source": []
  },
  {
   "cell_type": "code",
   "execution_count": null,
   "metadata": {},
   "outputs": [],
   "source": []
  },
  {
   "cell_type": "markdown",
   "metadata": {},
   "source": [
    "### Task 3.3: find maximum infection rate for all of the countries. "
   ]
  },
  {
   "cell_type": "code",
   "execution_count": null,
   "metadata": {},
   "outputs": [],
   "source": []
  },
  {
   "cell_type": "code",
   "execution_count": null,
   "metadata": {},
   "outputs": [],
   "source": []
  },
  {
   "cell_type": "markdown",
   "metadata": {},
   "source": [
    "### Task 3.4: create a new dataframe with only needed column "
   ]
  },
  {
   "cell_type": "code",
   "execution_count": null,
   "metadata": {},
   "outputs": [],
   "source": []
  },
  {
   "cell_type": "code",
   "execution_count": null,
   "metadata": {},
   "outputs": [],
   "source": []
  },
  {
   "cell_type": "markdown",
   "metadata": {},
   "source": [
    "### Task4: \n",
    "- Importing the WorldHappinessReport.csv dataset\n",
    "- selecting needed columns for our analysis \n",
    "- join the datasets \n",
    "- calculate the correlations as the result of our analysis"
   ]
  },
  {
   "cell_type": "markdown",
   "metadata": {},
   "source": [
    "### Task 4.1 : importing the dataset"
   ]
  },
  {
   "cell_type": "code",
   "execution_count": null,
   "metadata": {},
   "outputs": [],
   "source": []
  },
  {
   "cell_type": "code",
   "execution_count": null,
   "metadata": {},
   "outputs": [],
   "source": []
  },
  {
   "cell_type": "markdown",
   "metadata": {},
   "source": [
    "### Task 4.2: let's drop the useless columns "
   ]
  },
  {
   "cell_type": "code",
   "execution_count": null,
   "metadata": {},
   "outputs": [],
   "source": []
  },
  {
   "cell_type": "code",
   "execution_count": null,
   "metadata": {},
   "outputs": [],
   "source": []
  },
  {
   "cell_type": "markdown",
   "metadata": {},
   "source": [
    "### Task 4.3: changing the indices of the dataframe"
   ]
  },
  {
   "cell_type": "code",
   "execution_count": null,
   "metadata": {},
   "outputs": [],
   "source": []
  },
  {
   "cell_type": "markdown",
   "metadata": {},
   "source": [
    "### Task4.4: now let's join two dataset we have prepared  "
   ]
  },
  {
   "cell_type": "markdown",
   "metadata": {},
   "source": [
    "#### Corona Dataset :"
   ]
  },
  {
   "cell_type": "code",
   "execution_count": null,
   "metadata": {},
   "outputs": [],
   "source": []
  },
  {
   "cell_type": "markdown",
   "metadata": {},
   "source": [
    "#### wolrd happiness report Dataset :"
   ]
  },
  {
   "cell_type": "code",
   "execution_count": null,
   "metadata": {},
   "outputs": [],
   "source": []
  },
  {
   "cell_type": "code",
   "execution_count": null,
   "metadata": {},
   "outputs": [],
   "source": []
  },
  {
   "cell_type": "markdown",
   "metadata": {},
   "source": [
    "### Task 4.5: correlation matrix "
   ]
  },
  {
   "cell_type": "code",
   "execution_count": null,
   "metadata": {},
   "outputs": [],
   "source": []
  },
  {
   "cell_type": "markdown",
   "metadata": {},
   "source": [
    "### Task 5: Visualization of the results\n",
    "our Analysis is not finished unless we visualize the results in terms figures and graphs so that everyone can understand what you get out of our analysis"
   ]
  },
  {
   "cell_type": "code",
   "execution_count": null,
   "metadata": {},
   "outputs": [],
   "source": []
  },
  {
   "cell_type": "markdown",
   "metadata": {},
   "source": [
    "### Task 5.1: Plotting GDP vs maximum Infection rate"
   ]
  },
  {
   "cell_type": "code",
   "execution_count": null,
   "metadata": {},
   "outputs": [],
   "source": []
  },
  {
   "cell_type": "code",
   "execution_count": null,
   "metadata": {},
   "outputs": [],
   "source": []
  },
  {
   "cell_type": "markdown",
   "metadata": {},
   "source": [
    "### Task 5.2: Plotting Social support vs maximum Infection rate"
   ]
  },
  {
   "cell_type": "code",
   "execution_count": null,
   "metadata": {},
   "outputs": [],
   "source": []
  },
  {
   "cell_type": "code",
   "execution_count": null,
   "metadata": {},
   "outputs": [],
   "source": []
  },
  {
   "cell_type": "markdown",
   "metadata": {},
   "source": [
    "### Task 5.3: Plotting Healthy life expectancy vs maximum Infection rate"
   ]
  },
  {
   "cell_type": "code",
   "execution_count": null,
   "metadata": {},
   "outputs": [],
   "source": []
  },
  {
   "cell_type": "code",
   "execution_count": null,
   "metadata": {},
   "outputs": [],
   "source": []
  },
  {
   "cell_type": "markdown",
   "metadata": {},
   "source": [
    "### Task 5.4: Plotting Freedom to make life choices vs maximum Infection rate"
   ]
  },
  {
   "cell_type": "code",
   "execution_count": null,
   "metadata": {},
   "outputs": [],
   "source": []
  },
  {
   "cell_type": "code",
   "execution_count": null,
   "metadata": {},
   "outputs": [],
   "source": []
  }
 ],
 "metadata": {
  "kernelspec": {
   "display_name": "Python 3.8.6 64-bit",
   "language": "python",
   "name": "python_defaultSpec_1600745162609"
  },
  "language_info": {
   "codemirror_mode": {
    "name": "ipython",
    "version": 3
   },
   "file_extension": ".py",
   "mimetype": "text/x-python",
   "name": "python",
   "nbconvert_exporter": "python",
   "pygments_lexer": "ipython3",
   "version": "3.8.6-candidate"
  }
 },
 "nbformat": 4,
 "nbformat_minor": 2
}